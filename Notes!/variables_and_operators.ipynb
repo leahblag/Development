{
 "cells": [
  {
   "cell_type": "markdown",
   "metadata": {},
   "source": [
    "# Helpful Tips for coding:\n",
    "* 'ctrl + z' is your friend, its the undo\n",
    "* Click the top right play button to run the python file\n",
    "    * You can also type in \"python YOUR_PYTHON_FILENAME.py\" or \"python3 YOUR_PYTHON_FILENAME.py\"\n",
    "* Typing 'clear' in the terminal gets rid of past runs to clean up the terminal view\n",
    "* The terminal is a very helpful way to debug an error in your code (if you have one). Read the error statement, there is usually some tips on what is wrong.\n",
    "* print() is a built in Python function that creates an output in the terminal\n",
    "* type() is a built in Python function that returns the specifc data type of it's input (whatever is in between the parentheses)"
   ]
  },
  {
   "cell_type": "markdown",
   "metadata": {},
   "source": [
    "# Comments"
   ]
  },
  {
   "cell_type": "code",
   "execution_count": null,
   "metadata": {},
   "outputs": [],
   "source": [
    "# Using # adds comments to explain code and reasoning\n",
    "# 'ctrl + l' toggles whether a line or group of code is a comment or not\n",
    "\n",
    "'''\n",
    "This is a multi line comment. \n",
    "\n",
    "It helps if you want to type out a longer comment.\n",
    "'''"
   ]
  },
  {
   "cell_type": "markdown",
   "metadata": {},
   "source": [
    "# Variables\n",
    "* This is a way to code with a dynamic value (a value that can change)\n",
    "* Use variables as placeholders\n",
    "* Your variable names should describe the data you assign to it (ex. an average of a item prices could be called 'avg_price')\n",
    "    * As you gain experience, you'll develop helpful naming conventions to make it easier to read by yourself and others\n",
    "* Remember variable names don't accept spaces (use _ instead)"
   ]
  },
  {
   "cell_type": "code",
   "execution_count": null,
   "metadata": {},
   "outputs": [],
   "source": [
    "num_one = 1\n",
    "num_two = 20\n",
    "\n",
    "print(num_one) # output: 1\n",
    "print(num_one + num_two) # output: 21"
   ]
  },
  {
   "cell_type": "markdown",
   "metadata": {},
   "source": [
    "# String\n",
    "* Text, not numbers\n",
    "    * Needs to be bookended by either ' or \" (ex. 'This is a string' and \"This is also a string\")"
   ]
  },
  {
   "cell_type": "code",
   "execution_count": null,
   "metadata": {},
   "outputs": [],
   "source": [
    "fav_color = 'blue'\n",
    "# print(fav_color) # output: blue\n",
    "# print(type(fav_color)) # <class 'str'>"
   ]
  },
  {
   "cell_type": "markdown",
   "metadata": {},
   "source": [
    "# Integer\n",
    "* Any whole number (ex. 3, 50, 96, 10000000)"
   ]
  },
  {
   "cell_type": "code",
   "execution_count": null,
   "metadata": {},
   "outputs": [],
   "source": [
    "num_3 = 5 # integer\n",
    "print(num_3) # output: 5 \n",
    "print(type(num_3)) # output: <class 'int'>"
   ]
  },
  {
   "cell_type": "markdown",
   "metadata": {},
   "source": [
    "# Float\n",
    "* Numbers with decimal values (ex. 3.1, 99.99, 10000.03)"
   ]
  },
  {
   "cell_type": "code",
   "execution_count": null,
   "metadata": {},
   "outputs": [],
   "source": [
    "num_4 = 4.05\n",
    "print(num_4) # output: 4.05\n",
    "print(type(num_4)) # output: <class 'float'>"
   ]
  },
  {
   "cell_type": "markdown",
   "metadata": {},
   "source": [
    "# Boolean\n",
    "* Only two options. Either True or False"
   ]
  },
  {
   "cell_type": "code",
   "execution_count": null,
   "metadata": {},
   "outputs": [],
   "source": [
    "technical_errors = True\n",
    "print(technical_errors) # output: True\n",
    "print(type(technical_errors)) # output: <class 'bool'>"
   ]
  },
  {
   "cell_type": "markdown",
   "metadata": {},
   "source": [
    "# List\n",
    "* A grouping of data points\n",
    "* Encapsulated by []\n",
    "    * Ex. [1,2,3,4]\n",
    "* Doesn't need to be all the same data type\n",
    "    * Ex. ['one', 2, 3.0, False]"
   ]
  },
  {
   "cell_type": "code",
   "execution_count": null,
   "metadata": {},
   "outputs": [],
   "source": [
    "students_grades = [100,95,70,85,40]\n",
    "print(students_grades) # output: [100, 95, 70, 85, 40]\n",
    "print(type(students_grades)) # output: <class 'list'>"
   ]
  },
  {
   "cell_type": "markdown",
   "metadata": {},
   "source": [
    "# Dictionary\n",
    "* A way of storing multiple data points(kind of like a list)\n",
    "* Uses Key Value pairs. \n",
    "    * The key is the description of the value and can be used to retrieve the value.\n",
    "    * The value is the data that is being stored. Usually a string, integer, float, boolean or a list.\n",
    "* Commonly used data type for APIs"
   ]
  },
  {
   "cell_type": "code",
   "execution_count": null,
   "metadata": {},
   "outputs": [],
   "source": [
    "demographic_info = {\n",
    "    \"First Name\": 'Joe',\n",
    "    \"Last Name\": 'Smith',\n",
    "    \"State\": \"NY\"\n",
    "}"
   ]
  },
  {
   "cell_type": "markdown",
   "metadata": {},
   "source": [
    "# Math Operations\n",
    "* Addition (+)\n",
    "* Subtraction (-)\n",
    "* Multiplication (*)\n",
    "* Division (/)\n",
    "* Exponent (**) \n",
    "    * 2 ** 4 is 2 * 2 * 2 * 2 \n",
    "* Integer Division (//)\n",
    "    * This division only returns a integer (whole number) and no remainder (the decimal values)\n",
    "* Modulo / Mod (%)\n",
    "    * This outputs the remainder of division\n",
    "    * Ex: 10 % 3 = 1 "
   ]
  },
  {
   "cell_type": "code",
   "execution_count": null,
   "metadata": {},
   "outputs": [],
   "source": [
    "length = 10\n",
    "width = 7\n",
    "\n",
    "# Program to find the perimeter of a rectangle\n",
    "perimeter = 2 * (length + width)\n",
    "\n",
    "print(perimeter) # output: 34\n",
    "print(perimeter, length, width) # output: 34 10 7 \n",
    "# Adding in commas on a print function prints the variables with spaces in between\n",
    "print('The perimeter of my rectangle is', perimeter) # output: The perimeter of my rectangle is 34"
   ]
  },
  {
   "cell_type": "markdown",
   "metadata": {},
   "source": [
    "# Type Casting\n",
    "* Also known as casting\n",
    "* This can change the data type of a variable\n",
    "* When you get an input from a user, the input will be viewed as a string\n",
    "    * We might need to change that into an integer"
   ]
  },
  {
   "cell_type": "code",
   "execution_count": null,
   "metadata": {},
   "outputs": [],
   "source": [
    "my_string = '5' \n",
    "print(my_string) # output: 5\n",
    "print(type(my_string)) # output: <class 'str'>\n",
    "\n",
    "my_int = int(my_string)\n",
    "print(my_int) # output: 5\n",
    "print(type(my_int)) # output: <class 'int'>"
   ]
  },
  {
   "cell_type": "markdown",
   "metadata": {},
   "source": [
    "# Functions\n",
    "* print(), type(), len()\n",
    "* We pass variables into functions through the parenthese\n",
    "    * These variables are called the arguments of a function\n",
    "    * Multiple arguments are comma separated\n",
    "        * print(\"My new integer is \", my_int)"
   ]
  },
  {
   "cell_type": "code",
   "execution_count": null,
   "metadata": {},
   "outputs": [],
   "source": [
    "my_fav_colors = ['blue', 'black', 'red', 'purple', 'yellow']\n",
    "num_fav_colors = len(my_fav_colors)\n",
    "print(num_fav_colors)\n",
    "\n",
    "# We can also use len() with strings\n",
    "one_color = 'orange'\n",
    "character_count = len(one_color)\n",
    "print(character_count)"
   ]
  },
  {
   "cell_type": "markdown",
   "metadata": {},
   "source": [
    "# Loops\n",
    "* This allows us to iterate through a list, dictionary, or string\n",
    "* We will cover this in depth further on"
   ]
  },
  {
   "cell_type": "code",
   "execution_count": null,
   "metadata": {},
   "outputs": [],
   "source": [
    "# prints each data point in the list one by one\n",
    "for s in students_grades:\n",
    "    print(s)\n",
    "\n",
    "# prints every character in the string one by one\n",
    "for o in one_color:\n",
    "    print(o)"
   ]
  },
  {
   "cell_type": "markdown",
   "metadata": {},
   "source": [
    "# Exercise\n",
    "1. Find the perimeter of a Triangle\n",
    "    * perimeter = side_one + base + side_two\n",
    "    * User has a triangle with one side 6. one side 7, and a base of 4\n",
    "\n",
    "2. Write some code that converts fahrenheit to celsius.\n",
    "    * To convert fahrenheit to celsius, subtract 32, then multiply by 5/9.\n",
    "    * C = (F - 32) * 5/9\n",
    "\n",
    "3. Write some code to determine the volume of a cylinder.\n",
    "    * pi * radius^2 * height"
   ]
  },
  {
   "cell_type": "code",
   "execution_count": 2,
   "metadata": {},
   "outputs": [
    {
     "name": "stdout",
     "output_type": "stream",
     "text": [
      "17\n"
     ]
    }
   ],
   "source": [
    "# Define our variables\n",
    "side_1 = 6\n",
    "side_2 = 7\n",
    "base = 4\n",
    "\n",
    "# The given math to find the perimeter\n",
    "perimeter = side_1 + base + side_2\n",
    "\n",
    "# Print out the result\n",
    "print(perimeter)"
   ]
  },
  {
   "cell_type": "code",
   "execution_count": 3,
   "metadata": {},
   "outputs": [
    {
     "name": "stdout",
     "output_type": "stream",
     "text": [
      "26.666666666666668\n"
     ]
    }
   ],
   "source": [
    "# Define our variables\n",
    "temp_f = 80\n",
    "\n",
    "# The given math to find the temperature in celcius\n",
    "    # Remember to use the order of operations (PEMDAS)\n",
    "    # Parentheses are your friend\n",
    "temp_c = (temp_f - 32) * (5/9)\n",
    "\n",
    "# Print out the result\n",
    "print(temp_c)"
   ]
  },
  {
   "cell_type": "code",
   "execution_count": null,
   "metadata": {},
   "outputs": [],
   "source": [
    "# Import modules to use external libraries with helpful functions and data types\n",
    "# Keep the import statements at the top of your code\n",
    "import math\n",
    "\n",
    "# Define our variables\n",
    "radius_in = 3 # sometimes it helps to specify the units in the variable name (ex. _in for inches)\n",
    "height_in = 4\n",
    "pi = math.pi\n",
    "\n",
    "# The given math to calculate the volume of a cylinder\n",
    "volume = pi * (radius_in ** 2) * height_in\n",
    "\n",
    "# Print out the result\n",
    "print(volume)"
   ]
  }
 ],
 "metadata": {
  "kernelspec": {
   "display_name": "Python 3",
   "language": "python",
   "name": "python3"
  },
  "language_info": {
   "codemirror_mode": {
    "name": "ipython",
    "version": 3
   },
   "file_extension": ".py",
   "mimetype": "text/x-python",
   "name": "python",
   "nbconvert_exporter": "python",
   "pygments_lexer": "ipython3",
   "version": "3.11.8"
  }
 },
 "nbformat": 4,
 "nbformat_minor": 2
}
