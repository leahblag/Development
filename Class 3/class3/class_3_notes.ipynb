{
 "cells": [
  {
   "cell_type": "markdown",
   "metadata": {},
   "source": [
    "# Comments\n",
    "* Single-line and multi-line comment\n",
    "* Make the comments make sense to anyone who would read\n",
    "* PEP 8 style guide is a helpful resource for professional coding\n",
    "* Ctrl + '/' toggles whether a line is a comment or not"
   ]
  },
  {
   "cell_type": "code",
   "execution_count": null,
   "metadata": {},
   "outputs": [],
   "source": [
    "temperature = 95 # I am an inline comment\n",
    "\n",
    "# I am a standard single line comment\n",
    "first_name = 'Thomas' ''' Multi-line comment inline'''\n",
    "last_name = 'the Train' \"\"\" Inline comment with double quotes \"\"\""
   ]
  },
  {
   "cell_type": "code",
   "execution_count": 2,
   "metadata": {},
   "outputs": [
    {
     "name": "stdout",
     "output_type": "stream",
     "text": [
      "24\n"
     ]
    }
   ],
   "source": [
    "# Define variables (length and width of a rectangle)\n",
    "length = 5\n",
    "width = 7\n",
    "\n",
    "perimeter = 2 * (length + width) # Calculate the perimeter\n",
    "\n",
    "# Print out result\n",
    "print(perimeter)"
   ]
  },
  {
   "cell_type": "code",
   "execution_count": null,
   "metadata": {},
   "outputs": [],
   "source": [
    "'''\n",
    "This converts the temperature in fahrenheit to celsius.\n",
    "1. Define temperature in fahrenheit\n",
    "2. Calculate the degrees in celsius\n",
    "3. Print out results\n",
    "'''\n",
    "# Define variables\n",
    "fahrenheit = 99 # degrees\n",
    "\n",
    "# Conversion equation\n",
    "celsius = (fahrenheit - 32) * (5/9) \n",
    "\n",
    "# Print out results\n",
    "print(celsius)"
   ]
  },
  {
   "cell_type": "code",
   "execution_count": 21,
   "metadata": {},
   "outputs": [
    {
     "name": "stdout",
     "output_type": "stream",
     "text": [
      "55\n"
     ]
    }
   ],
   "source": [
    "''' \n",
    "shortcut operators \n",
    "\n",
    "* usually the operator and an equals sign together\n",
    "* reduces redundancy in code \n",
    "\n",
    "\n",
    "'''\n",
    "# Add 5 to the age\n",
    "age = 50\n",
    "age += 5\n",
    "print(age)"
   ]
  },
  {
   "cell_type": "code",
   "execution_count": 24,
   "metadata": {},
   "outputs": [
    {
     "name": "stdout",
     "output_type": "stream",
     "text": [
      "35\n",
      "-4\n"
     ]
    }
   ],
   "source": [
    "# Subtract 20\n",
    "num_one = 55\n",
    "num_one -= 20\n",
    "print(num_one)\n",
    "\n",
    "# Subtract 15\n",
    "num_two = 11\n",
    "num_two -= 15\n",
    "print(num_two)"
   ]
  },
  {
   "cell_type": "code",
   "execution_count": 12,
   "metadata": {},
   "outputs": [
    {
     "name": "stdout",
     "output_type": "stream",
     "text": [
      "27\n",
      "150\n"
     ]
    }
   ],
   "source": [
    "# Multiply by 3\n",
    "my_value = 9\n",
    "my_value *= 3\n",
    "print(my_value)\n",
    "\n",
    "# Multiply by 10\n",
    "milage = 15\n",
    "milage *= 10\n",
    "print(milage)"
   ]
  },
  {
   "cell_type": "code",
   "execution_count": 13,
   "metadata": {},
   "outputs": [
    {
     "name": "stdout",
     "output_type": "stream",
     "text": [
      "4.0\n",
      "1.2714285714285716\n"
     ]
    }
   ],
   "source": [
    "# Divide by 2\n",
    "pizza_slices = 8 \n",
    "pizza_slices /= 2\n",
    "print(pizza_slices)\n",
    "\n",
    "# Divide by 7\n",
    "fees = 8.90\n",
    "fees /= 7\n",
    "print(fees)"
   ]
  },
  {
   "cell_type": "code",
   "execution_count": 15,
   "metadata": {},
   "outputs": [
    {
     "name": "stdout",
     "output_type": "stream",
     "text": [
      "216\n",
      "256\n"
     ]
    }
   ],
   "source": [
    "# Raise to the 3rd power\n",
    "num_three = 6\n",
    "num_three **= 3\n",
    "print(num_three)\n",
    "\n",
    "# Raise to the 2nd power\n",
    "data = 16\n",
    "data **= 2\n",
    "print(data)"
   ]
  },
  {
   "cell_type": "code",
   "execution_count": 19,
   "metadata": {},
   "outputs": [
    {
     "name": "stdout",
     "output_type": "stream",
     "text": [
      "5\n",
      "2\n"
     ]
    }
   ],
   "source": [
    "# Integer Division\n",
    "# How many times does 3 go into 16?\n",
    "\n",
    "val_one = 16\n",
    "val_one //= 3\n",
    "print(val_one)\n",
    "\n",
    "# Integer division by 4\n",
    "val_two = 9\n",
    "val_two //= 4\n",
    "print(val_two)"
   ]
  },
  {
   "cell_type": "code",
   "execution_count": 20,
   "metadata": {},
   "outputs": [
    {
     "name": "stdout",
     "output_type": "stream",
     "text": [
      "1\n",
      "4\n"
     ]
    }
   ],
   "source": [
    "# Modulus\n",
    "# Used commonly to determine if a number is even or odd\n",
    "\n",
    "# Find the remainder if divided by 3\n",
    "val_three = 10\n",
    "val_three %= 3\n",
    "print(val_three)\n",
    "\n",
    "# Find the remainder if divided by 5\n",
    "val_four = 14\n",
    "val_four %= 5\n",
    "print(val_four)"
   ]
  },
  {
   "cell_type": "code",
   "execution_count": 27,
   "metadata": {},
   "outputs": [
    {
     "name": "stdout",
     "output_type": "stream",
     "text": [
      "31.666666666666668\n",
      "31.666666666666668\n"
     ]
    }
   ],
   "source": [
    "fahrenheit = 89\n",
    "\n",
    "# equation\n",
    "celsius = (fahrenheit - 32) * (5/9) \n",
    "print(celsius)\n",
    "\n",
    "# using shorthand operators - more verbose but good practice\n",
    "# the order of shorthand operators matter\n",
    "fahrenheit -= 32\n",
    "fahrenheit *= (5/9)\n",
    "celsius = fahrenheit\n",
    "print(celsius)"
   ]
  },
  {
   "cell_type": "markdown",
   "metadata": {},
   "source": [
    "# Boolean Operators"
   ]
  },
  {
   "cell_type": "code",
   "execution_count": 37,
   "metadata": {},
   "outputs": [
    {
     "name": "stdout",
     "output_type": "stream",
     "text": [
      "Is 7 less than 5? False\n",
      "Is 4 less than or equal to 4 True\n",
      "Is 6 greater than 2? True\n",
      "Is 5 greater than or equal to 6? False\n",
      "Is 5 equal to 5? True\n",
      "Is 100 not equal to 75? True\n"
     ]
    }
   ],
   "source": [
    "# Is 7 less than 5?\n",
    "result = 7 < 5\n",
    "print(\"Is 7 less than 5?\", result)\n",
    "\n",
    "# Is 4 less than or equal to 4? \n",
    "answer = 4 <= 4\n",
    "print(\"Is 4 less than or equal to 4\", answer)\n",
    "\n",
    "# Is 6 greater than 2?\n",
    "a1 = 6 > 2\n",
    "print(\"Is 6 greater than 2?\", a1)\n",
    "\n",
    "# Is 5 greater than or equal to 6?\n",
    "a2 = 5 >= 6\n",
    "print(\"Is 5 greater than or equal to 6?\", a2)\n",
    "\n",
    "# Is 5 equal to 5?\n",
    "a3 = 5 == 5\n",
    "print(\"Is 5 equal to 5?\", a3)\n",
    "\n",
    "# Is 100 not equal to 75?\n",
    "a4 = 100 != 75\n",
    "print(\"Is 100 not equal to 75?\", a4)\n"
   ]
  },
  {
   "cell_type": "code",
   "execution_count": 40,
   "metadata": {},
   "outputs": [
    {
     "name": "stdout",
     "output_type": "stream",
     "text": [
      "True\n",
      "False\n",
      "False\n"
     ]
    }
   ],
   "source": [
    "# and\n",
    "# think of true as 1 and flase as 0\n",
    "# and is multiplication\n",
    "# 0 * 1 or 1 * 0 is 0\n",
    "# 1 * 1 is 1 and 0 * 0 is 0\n",
    "print(5 == 5 and 4 == 4)\n",
    "print(2 == 2 and 3 == 1)\n",
    "print(1 == 2 and 2 == 10)"
   ]
  },
  {
   "cell_type": "code",
   "execution_count": 42,
   "metadata": {},
   "outputs": [
    {
     "name": "stdout",
     "output_type": "stream",
     "text": [
      "Log 1 True\n",
      "Log 2 False\n",
      "Log 1 and Log 2 False\n"
     ]
    }
   ],
   "source": [
    "log_1 = 5 == 5 \n",
    "log_2 = 4 == 7\n",
    "print('Log 1', log_1)\n",
    "print('Log 2', log_2)\n",
    "print('Log 1 and Log 2', log_1 and log_2)"
   ]
  },
  {
   "cell_type": "code",
   "execution_count": 45,
   "metadata": {},
   "outputs": [
    {
     "name": "stdout",
     "output_type": "stream",
     "text": [
      "Log 1 False\n",
      "Log 2 True\n",
      "Log 1 or Log 2 True\n"
     ]
    }
   ],
   "source": [
    "# or \n",
    "# think of or as addition\n",
    "# 0 + 1 = 1 and 1 + 0 = 1\n",
    "# 0 + 0 = 0 \n",
    "\n",
    "log_1 = 4 == 5 \n",
    "log_2 = 4 == 4\n",
    "print('Log 1', log_1)\n",
    "print('Log 2', log_2)\n",
    "print('Log 1 or Log 2', log_1 or log_2)"
   ]
  }
 ],
 "metadata": {
  "kernelspec": {
   "display_name": "Python 3",
   "language": "python",
   "name": "python3"
  },
  "language_info": {
   "codemirror_mode": {
    "name": "ipython",
    "version": 3
   },
   "file_extension": ".py",
   "mimetype": "text/x-python",
   "name": "python",
   "nbconvert_exporter": "python",
   "pygments_lexer": "ipython3",
   "version": "3.11.8"
  }
 },
 "nbformat": 4,
 "nbformat_minor": 2
}
